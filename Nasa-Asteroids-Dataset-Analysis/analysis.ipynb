{
 "cells": [
  {
   "cell_type": "markdown",
   "metadata": {},
   "source": [
    "# NASA Asteroids Datasets\n",
    "The aim of this analysis is to explore the features associated with the hazardous asteroids"
   ]
  },
  {
   "cell_type": "markdown",
   "metadata": {},
   "source": [
    "#### Importing the dataset and exploring its parameters :"
   ]
  },
  {
   "cell_type": "code",
   "execution_count": 1,
   "metadata": {},
   "outputs": [],
   "source": [
    "import numpy as np \n",
    "import pandas as pd \n",
    "import seaborn as sns\n",
    "import matplotlib.pyplot as plt\n",
    "%matplotlib inline"
   ]
  },
  {
   "cell_type": "code",
   "execution_count": 2,
   "metadata": {},
   "outputs": [
    {
     "data": {
      "text/html": [
       "<div>\n",
       "<style scoped>\n",
       "    .dataframe tbody tr th:only-of-type {\n",
       "        vertical-align: middle;\n",
       "    }\n",
       "\n",
       "    .dataframe tbody tr th {\n",
       "        vertical-align: top;\n",
       "    }\n",
       "\n",
       "    .dataframe thead th {\n",
       "        text-align: right;\n",
       "    }\n",
       "</style>\n",
       "<table border=\"1\" class=\"dataframe\">\n",
       "  <thead>\n",
       "    <tr style=\"text-align: right;\">\n",
       "      <th></th>\n",
       "      <th>Neo Reference ID</th>\n",
       "      <th>Name</th>\n",
       "      <th>Absolute Magnitude</th>\n",
       "      <th>Est Dia in KM(min)</th>\n",
       "      <th>Est Dia in KM(max)</th>\n",
       "      <th>Est Dia in M(min)</th>\n",
       "      <th>Est Dia in M(max)</th>\n",
       "      <th>Est Dia in Miles(min)</th>\n",
       "      <th>Est Dia in Miles(max)</th>\n",
       "      <th>Est Dia in Feet(min)</th>\n",
       "      <th>...</th>\n",
       "      <th>Asc Node Longitude</th>\n",
       "      <th>Orbital Period</th>\n",
       "      <th>Perihelion Distance</th>\n",
       "      <th>Perihelion Arg</th>\n",
       "      <th>Aphelion Dist</th>\n",
       "      <th>Perihelion Time</th>\n",
       "      <th>Mean Anomaly</th>\n",
       "      <th>Mean Motion</th>\n",
       "      <th>Equinox</th>\n",
       "      <th>Hazardous</th>\n",
       "    </tr>\n",
       "  </thead>\n",
       "  <tbody>\n",
       "    <tr>\n",
       "      <th>0</th>\n",
       "      <td>3703080</td>\n",
       "      <td>3703080</td>\n",
       "      <td>21.6</td>\n",
       "      <td>0.127220</td>\n",
       "      <td>0.284472</td>\n",
       "      <td>127.219879</td>\n",
       "      <td>284.472297</td>\n",
       "      <td>0.079051</td>\n",
       "      <td>0.176763</td>\n",
       "      <td>417.388066</td>\n",
       "      <td>...</td>\n",
       "      <td>314.373913</td>\n",
       "      <td>609.599786</td>\n",
       "      <td>0.808259</td>\n",
       "      <td>57.257470</td>\n",
       "      <td>2.005764</td>\n",
       "      <td>2.458162e+06</td>\n",
       "      <td>264.837533</td>\n",
       "      <td>0.590551</td>\n",
       "      <td>J2000</td>\n",
       "      <td>True</td>\n",
       "    </tr>\n",
       "    <tr>\n",
       "      <th>1</th>\n",
       "      <td>3723955</td>\n",
       "      <td>3723955</td>\n",
       "      <td>21.3</td>\n",
       "      <td>0.146068</td>\n",
       "      <td>0.326618</td>\n",
       "      <td>146.067964</td>\n",
       "      <td>326.617897</td>\n",
       "      <td>0.090762</td>\n",
       "      <td>0.202951</td>\n",
       "      <td>479.225620</td>\n",
       "      <td>...</td>\n",
       "      <td>136.717242</td>\n",
       "      <td>425.869294</td>\n",
       "      <td>0.718200</td>\n",
       "      <td>313.091975</td>\n",
       "      <td>1.497352</td>\n",
       "      <td>2.457795e+06</td>\n",
       "      <td>173.741112</td>\n",
       "      <td>0.845330</td>\n",
       "      <td>J2000</td>\n",
       "      <td>False</td>\n",
       "    </tr>\n",
       "    <tr>\n",
       "      <th>2</th>\n",
       "      <td>2446862</td>\n",
       "      <td>2446862</td>\n",
       "      <td>20.3</td>\n",
       "      <td>0.231502</td>\n",
       "      <td>0.517654</td>\n",
       "      <td>231.502122</td>\n",
       "      <td>517.654482</td>\n",
       "      <td>0.143849</td>\n",
       "      <td>0.321655</td>\n",
       "      <td>759.521423</td>\n",
       "      <td>...</td>\n",
       "      <td>259.475979</td>\n",
       "      <td>643.580228</td>\n",
       "      <td>0.950791</td>\n",
       "      <td>248.415038</td>\n",
       "      <td>1.966857</td>\n",
       "      <td>2.458120e+06</td>\n",
       "      <td>292.893654</td>\n",
       "      <td>0.559371</td>\n",
       "      <td>J2000</td>\n",
       "      <td>True</td>\n",
       "    </tr>\n",
       "    <tr>\n",
       "      <th>3</th>\n",
       "      <td>3092506</td>\n",
       "      <td>3092506</td>\n",
       "      <td>27.4</td>\n",
       "      <td>0.008801</td>\n",
       "      <td>0.019681</td>\n",
       "      <td>8.801465</td>\n",
       "      <td>19.680675</td>\n",
       "      <td>0.005469</td>\n",
       "      <td>0.012229</td>\n",
       "      <td>28.876199</td>\n",
       "      <td>...</td>\n",
       "      <td>57.173266</td>\n",
       "      <td>514.082140</td>\n",
       "      <td>0.983902</td>\n",
       "      <td>18.707701</td>\n",
       "      <td>1.527904</td>\n",
       "      <td>2.457902e+06</td>\n",
       "      <td>68.741007</td>\n",
       "      <td>0.700277</td>\n",
       "      <td>J2000</td>\n",
       "      <td>False</td>\n",
       "    </tr>\n",
       "    <tr>\n",
       "      <th>4</th>\n",
       "      <td>3514799</td>\n",
       "      <td>3514799</td>\n",
       "      <td>21.6</td>\n",
       "      <td>0.127220</td>\n",
       "      <td>0.284472</td>\n",
       "      <td>127.219879</td>\n",
       "      <td>284.472297</td>\n",
       "      <td>0.079051</td>\n",
       "      <td>0.176763</td>\n",
       "      <td>417.388066</td>\n",
       "      <td>...</td>\n",
       "      <td>84.629307</td>\n",
       "      <td>495.597821</td>\n",
       "      <td>0.967687</td>\n",
       "      <td>158.263596</td>\n",
       "      <td>1.483543</td>\n",
       "      <td>2.457814e+06</td>\n",
       "      <td>135.142133</td>\n",
       "      <td>0.726395</td>\n",
       "      <td>J2000</td>\n",
       "      <td>True</td>\n",
       "    </tr>\n",
       "  </tbody>\n",
       "</table>\n",
       "<p>5 rows × 40 columns</p>\n",
       "</div>"
      ],
      "text/plain": [
       "   Neo Reference ID     Name  Absolute Magnitude  Est Dia in KM(min)  \\\n",
       "0           3703080  3703080                21.6            0.127220   \n",
       "1           3723955  3723955                21.3            0.146068   \n",
       "2           2446862  2446862                20.3            0.231502   \n",
       "3           3092506  3092506                27.4            0.008801   \n",
       "4           3514799  3514799                21.6            0.127220   \n",
       "\n",
       "   Est Dia in KM(max)  Est Dia in M(min)  Est Dia in M(max)  \\\n",
       "0            0.284472         127.219879         284.472297   \n",
       "1            0.326618         146.067964         326.617897   \n",
       "2            0.517654         231.502122         517.654482   \n",
       "3            0.019681           8.801465          19.680675   \n",
       "4            0.284472         127.219879         284.472297   \n",
       "\n",
       "   Est Dia in Miles(min)  Est Dia in Miles(max)  Est Dia in Feet(min)  ...  \\\n",
       "0               0.079051               0.176763            417.388066  ...   \n",
       "1               0.090762               0.202951            479.225620  ...   \n",
       "2               0.143849               0.321655            759.521423  ...   \n",
       "3               0.005469               0.012229             28.876199  ...   \n",
       "4               0.079051               0.176763            417.388066  ...   \n",
       "\n",
       "   Asc Node Longitude Orbital Period  Perihelion Distance  Perihelion Arg  \\\n",
       "0          314.373913     609.599786             0.808259       57.257470   \n",
       "1          136.717242     425.869294             0.718200      313.091975   \n",
       "2          259.475979     643.580228             0.950791      248.415038   \n",
       "3           57.173266     514.082140             0.983902       18.707701   \n",
       "4           84.629307     495.597821             0.967687      158.263596   \n",
       "\n",
       "   Aphelion Dist  Perihelion Time  Mean Anomaly  Mean Motion  Equinox  \\\n",
       "0       2.005764     2.458162e+06    264.837533     0.590551    J2000   \n",
       "1       1.497352     2.457795e+06    173.741112     0.845330    J2000   \n",
       "2       1.966857     2.458120e+06    292.893654     0.559371    J2000   \n",
       "3       1.527904     2.457902e+06     68.741007     0.700277    J2000   \n",
       "4       1.483543     2.457814e+06    135.142133     0.726395    J2000   \n",
       "\n",
       "   Hazardous  \n",
       "0       True  \n",
       "1      False  \n",
       "2       True  \n",
       "3      False  \n",
       "4       True  \n",
       "\n",
       "[5 rows x 40 columns]"
      ]
     },
     "execution_count": 2,
     "metadata": {},
     "output_type": "execute_result"
    }
   ],
   "source": [
    "original_df = pd.read_csv(\"./Dataset/nasa.csv\")\n",
    "original_df.head()"
   ]
  },
  {
   "cell_type": "code",
   "execution_count": 3,
   "metadata": {},
   "outputs": [
    {
     "data": {
      "text/plain": [
       "(4687, 40)"
      ]
     },
     "execution_count": 3,
     "metadata": {},
     "output_type": "execute_result"
    }
   ],
   "source": [
    "original_df.shape"
   ]
  },
  {
   "cell_type": "code",
   "execution_count": 4,
   "metadata": {},
   "outputs": [
    {
     "name": "stdout",
     "output_type": "stream",
     "text": [
      "<class 'pandas.core.frame.DataFrame'>\n",
      "RangeIndex: 4687 entries, 0 to 4686\n",
      "Data columns (total 40 columns):\n",
      " #   Column                        Non-Null Count  Dtype  \n",
      "---  ------                        --------------  -----  \n",
      " 0   Neo Reference ID              4687 non-null   int64  \n",
      " 1   Name                          4687 non-null   int64  \n",
      " 2   Absolute Magnitude            4687 non-null   float64\n",
      " 3   Est Dia in KM(min)            4687 non-null   float64\n",
      " 4   Est Dia in KM(max)            4687 non-null   float64\n",
      " 5   Est Dia in M(min)             4687 non-null   float64\n",
      " 6   Est Dia in M(max)             4687 non-null   float64\n",
      " 7   Est Dia in Miles(min)         4687 non-null   float64\n",
      " 8   Est Dia in Miles(max)         4687 non-null   float64\n",
      " 9   Est Dia in Feet(min)          4687 non-null   float64\n",
      " 10  Est Dia in Feet(max)          4687 non-null   float64\n",
      " 11  Close Approach Date           4687 non-null   object \n",
      " 12  Epoch Date Close Approach     4687 non-null   int64  \n",
      " 13  Relative Velocity km per sec  4687 non-null   float64\n",
      " 14  Relative Velocity km per hr   4687 non-null   float64\n",
      " 15  Miles per hour                4687 non-null   float64\n",
      " 16  Miss Dist.(Astronomical)      4687 non-null   float64\n",
      " 17  Miss Dist.(lunar)             4687 non-null   float64\n",
      " 18  Miss Dist.(kilometers)        4687 non-null   float64\n",
      " 19  Miss Dist.(miles)             4687 non-null   float64\n",
      " 20  Orbiting Body                 4687 non-null   object \n",
      " 21  Orbit ID                      4687 non-null   int64  \n",
      " 22  Orbit Determination Date      4687 non-null   object \n",
      " 23  Orbit Uncertainity            4687 non-null   int64  \n",
      " 24  Minimum Orbit Intersection    4687 non-null   float64\n",
      " 25  Jupiter Tisserand Invariant   4687 non-null   float64\n",
      " 26  Epoch Osculation              4687 non-null   float64\n",
      " 27  Eccentricity                  4687 non-null   float64\n",
      " 28  Semi Major Axis               4687 non-null   float64\n",
      " 29  Inclination                   4687 non-null   float64\n",
      " 30  Asc Node Longitude            4687 non-null   float64\n",
      " 31  Orbital Period                4687 non-null   float64\n",
      " 32  Perihelion Distance           4687 non-null   float64\n",
      " 33  Perihelion Arg                4687 non-null   float64\n",
      " 34  Aphelion Dist                 4687 non-null   float64\n",
      " 35  Perihelion Time               4687 non-null   float64\n",
      " 36  Mean Anomaly                  4687 non-null   float64\n",
      " 37  Mean Motion                   4687 non-null   float64\n",
      " 38  Equinox                       4687 non-null   object \n",
      " 39  Hazardous                     4687 non-null   bool   \n",
      "dtypes: bool(1), float64(30), int64(5), object(4)\n",
      "memory usage: 1.4+ MB\n"
     ]
    }
   ],
   "source": [
    "original_df.info()"
   ]
  },
  {
   "cell_type": "code",
   "execution_count": 5,
   "metadata": {},
   "outputs": [
    {
     "data": {
      "text/plain": [
       "Neo Reference ID                0\n",
       "Name                            0\n",
       "Absolute Magnitude              0\n",
       "Est Dia in KM(min)              0\n",
       "Est Dia in KM(max)              0\n",
       "Est Dia in M(min)               0\n",
       "Est Dia in M(max)               0\n",
       "Est Dia in Miles(min)           0\n",
       "Est Dia in Miles(max)           0\n",
       "Est Dia in Feet(min)            0\n",
       "Est Dia in Feet(max)            0\n",
       "Close Approach Date             0\n",
       "Epoch Date Close Approach       0\n",
       "Relative Velocity km per sec    0\n",
       "Relative Velocity km per hr     0\n",
       "Miles per hour                  0\n",
       "Miss Dist.(Astronomical)        0\n",
       "Miss Dist.(lunar)               0\n",
       "Miss Dist.(kilometers)          0\n",
       "Miss Dist.(miles)               0\n",
       "Orbiting Body                   0\n",
       "Orbit ID                        0\n",
       "Orbit Determination Date        0\n",
       "Orbit Uncertainity              0\n",
       "Minimum Orbit Intersection      0\n",
       "Jupiter Tisserand Invariant     0\n",
       "Epoch Osculation                0\n",
       "Eccentricity                    0\n",
       "Semi Major Axis                 0\n",
       "Inclination                     0\n",
       "Asc Node Longitude              0\n",
       "Orbital Period                  0\n",
       "Perihelion Distance             0\n",
       "Perihelion Arg                  0\n",
       "Aphelion Dist                   0\n",
       "Perihelion Time                 0\n",
       "Mean Anomaly                    0\n",
       "Mean Motion                     0\n",
       "Equinox                         0\n",
       "Hazardous                       0\n",
       "dtype: int64"
      ]
     },
     "execution_count": 5,
     "metadata": {},
     "output_type": "execute_result"
    }
   ],
   "source": [
    "original_df.isna().sum()"
   ]
  },
  {
   "cell_type": "markdown",
   "metadata": {},
   "source": [
    "#### Preparing the data for analysis:"
   ]
  },
  {
   "cell_type": "code",
   "execution_count": 6,
   "metadata": {},
   "outputs": [],
   "source": [
    "#droping features that we are sure that it is not important \n",
    "df = original_df.drop(columns=[\"Orbiting Body\",\"Neo Reference ID\",\"Name\",\"Close Approach Date\",\"Epoch Date Close Approach\",\"Orbit Uncertainity\",\"Orbit Determination Date\"])\n",
    "#droping repated features\n",
    "df = df.drop(columns=[\"Est Dia in M(min)\",\"Est Dia in M(max)\",\"Est Dia in Miles(min)\",\"Est Dia in Miles(max)\",\n",
    "\"Est Dia in Feet(min)\",\"Est Dia in Feet(max)\",\"Relative Velocity km per sec\",\"Miles per hour\",\"Miss Dist.(Astronomical)\",\"Miss Dist.(lunar)\",\"Miss Dist.(miles)\"])"
   ]
  },
  {
   "cell_type": "code",
   "execution_count": 7,
   "metadata": {},
   "outputs": [
    {
     "data": {
      "text/plain": [
       "0    1\n",
       "1    0\n",
       "2    1\n",
       "3    0\n",
       "4    1\n",
       "Name: Hazardous, dtype: int32"
      ]
     },
     "execution_count": 7,
     "metadata": {},
     "output_type": "execute_result"
    }
   ],
   "source": [
    "df[\"Hazardous\"] = df[\"Hazardous\"].astype(int)\n",
    "df[\"Hazardous\"].head()"
   ]
  },
  {
   "cell_type": "code",
   "execution_count": 8,
   "metadata": {},
   "outputs": [
    {
     "data": {
      "text/html": [
       "<div>\n",
       "<style scoped>\n",
       "    .dataframe tbody tr th:only-of-type {\n",
       "        vertical-align: middle;\n",
       "    }\n",
       "\n",
       "    .dataframe tbody tr th {\n",
       "        vertical-align: top;\n",
       "    }\n",
       "\n",
       "    .dataframe thead th {\n",
       "        text-align: right;\n",
       "    }\n",
       "</style>\n",
       "<table border=\"1\" class=\"dataframe\">\n",
       "  <thead>\n",
       "    <tr style=\"text-align: right;\">\n",
       "      <th></th>\n",
       "      <th>Absolute Magnitude</th>\n",
       "      <th>Est Dia in KM(min)</th>\n",
       "      <th>Est Dia in KM(max)</th>\n",
       "      <th>Relative Velocity km per hr</th>\n",
       "      <th>Miss Dist.(kilometers)</th>\n",
       "      <th>Orbit ID</th>\n",
       "      <th>Minimum Orbit Intersection</th>\n",
       "      <th>Jupiter Tisserand Invariant</th>\n",
       "      <th>Epoch Osculation</th>\n",
       "      <th>Eccentricity</th>\n",
       "      <th>...</th>\n",
       "      <th>Asc Node Longitude</th>\n",
       "      <th>Orbital Period</th>\n",
       "      <th>Perihelion Distance</th>\n",
       "      <th>Perihelion Arg</th>\n",
       "      <th>Aphelion Dist</th>\n",
       "      <th>Perihelion Time</th>\n",
       "      <th>Mean Anomaly</th>\n",
       "      <th>Mean Motion</th>\n",
       "      <th>Equinox</th>\n",
       "      <th>Hazardous</th>\n",
       "    </tr>\n",
       "  </thead>\n",
       "  <tbody>\n",
       "    <tr>\n",
       "      <th>0</th>\n",
       "      <td>21.6</td>\n",
       "      <td>0.127220</td>\n",
       "      <td>0.284472</td>\n",
       "      <td>22017.003799</td>\n",
       "      <td>62753692.0</td>\n",
       "      <td>17</td>\n",
       "      <td>0.025282</td>\n",
       "      <td>4.634</td>\n",
       "      <td>2458000.5</td>\n",
       "      <td>0.425549</td>\n",
       "      <td>...</td>\n",
       "      <td>314.373913</td>\n",
       "      <td>609.599786</td>\n",
       "      <td>0.808259</td>\n",
       "      <td>57.257470</td>\n",
       "      <td>2.005764</td>\n",
       "      <td>2.458162e+06</td>\n",
       "      <td>264.837533</td>\n",
       "      <td>0.590551</td>\n",
       "      <td>J2000</td>\n",
       "      <td>1</td>\n",
       "    </tr>\n",
       "    <tr>\n",
       "      <th>1</th>\n",
       "      <td>21.3</td>\n",
       "      <td>0.146068</td>\n",
       "      <td>0.326618</td>\n",
       "      <td>65210.346095</td>\n",
       "      <td>57298148.0</td>\n",
       "      <td>21</td>\n",
       "      <td>0.186935</td>\n",
       "      <td>5.457</td>\n",
       "      <td>2458000.5</td>\n",
       "      <td>0.351674</td>\n",
       "      <td>...</td>\n",
       "      <td>136.717242</td>\n",
       "      <td>425.869294</td>\n",
       "      <td>0.718200</td>\n",
       "      <td>313.091975</td>\n",
       "      <td>1.497352</td>\n",
       "      <td>2.457795e+06</td>\n",
       "      <td>173.741112</td>\n",
       "      <td>0.845330</td>\n",
       "      <td>J2000</td>\n",
       "      <td>0</td>\n",
       "    </tr>\n",
       "    <tr>\n",
       "      <th>2</th>\n",
       "      <td>20.3</td>\n",
       "      <td>0.231502</td>\n",
       "      <td>0.517654</td>\n",
       "      <td>27326.560182</td>\n",
       "      <td>7622911.5</td>\n",
       "      <td>22</td>\n",
       "      <td>0.043058</td>\n",
       "      <td>4.557</td>\n",
       "      <td>2458000.5</td>\n",
       "      <td>0.348248</td>\n",
       "      <td>...</td>\n",
       "      <td>259.475979</td>\n",
       "      <td>643.580228</td>\n",
       "      <td>0.950791</td>\n",
       "      <td>248.415038</td>\n",
       "      <td>1.966857</td>\n",
       "      <td>2.458120e+06</td>\n",
       "      <td>292.893654</td>\n",
       "      <td>0.559371</td>\n",
       "      <td>J2000</td>\n",
       "      <td>1</td>\n",
       "    </tr>\n",
       "    <tr>\n",
       "      <th>3</th>\n",
       "      <td>27.4</td>\n",
       "      <td>0.008801</td>\n",
       "      <td>0.019681</td>\n",
       "      <td>40225.948191</td>\n",
       "      <td>42683616.0</td>\n",
       "      <td>7</td>\n",
       "      <td>0.005512</td>\n",
       "      <td>5.093</td>\n",
       "      <td>2458000.5</td>\n",
       "      <td>0.216578</td>\n",
       "      <td>...</td>\n",
       "      <td>57.173266</td>\n",
       "      <td>514.082140</td>\n",
       "      <td>0.983902</td>\n",
       "      <td>18.707701</td>\n",
       "      <td>1.527904</td>\n",
       "      <td>2.457902e+06</td>\n",
       "      <td>68.741007</td>\n",
       "      <td>0.700277</td>\n",
       "      <td>J2000</td>\n",
       "      <td>0</td>\n",
       "    </tr>\n",
       "    <tr>\n",
       "      <th>4</th>\n",
       "      <td>21.6</td>\n",
       "      <td>0.127220</td>\n",
       "      <td>0.284472</td>\n",
       "      <td>35426.991794</td>\n",
       "      <td>61010824.0</td>\n",
       "      <td>25</td>\n",
       "      <td>0.034798</td>\n",
       "      <td>5.154</td>\n",
       "      <td>2458000.5</td>\n",
       "      <td>0.210448</td>\n",
       "      <td>...</td>\n",
       "      <td>84.629307</td>\n",
       "      <td>495.597821</td>\n",
       "      <td>0.967687</td>\n",
       "      <td>158.263596</td>\n",
       "      <td>1.483543</td>\n",
       "      <td>2.457814e+06</td>\n",
       "      <td>135.142133</td>\n",
       "      <td>0.726395</td>\n",
       "      <td>J2000</td>\n",
       "      <td>1</td>\n",
       "    </tr>\n",
       "  </tbody>\n",
       "</table>\n",
       "<p>5 rows × 22 columns</p>\n",
       "</div>"
      ],
      "text/plain": [
       "   Absolute Magnitude  Est Dia in KM(min)  Est Dia in KM(max)  \\\n",
       "0                21.6            0.127220            0.284472   \n",
       "1                21.3            0.146068            0.326618   \n",
       "2                20.3            0.231502            0.517654   \n",
       "3                27.4            0.008801            0.019681   \n",
       "4                21.6            0.127220            0.284472   \n",
       "\n",
       "   Relative Velocity km per hr  Miss Dist.(kilometers)  Orbit ID  \\\n",
       "0                 22017.003799              62753692.0        17   \n",
       "1                 65210.346095              57298148.0        21   \n",
       "2                 27326.560182               7622911.5        22   \n",
       "3                 40225.948191              42683616.0         7   \n",
       "4                 35426.991794              61010824.0        25   \n",
       "\n",
       "   Minimum Orbit Intersection  Jupiter Tisserand Invariant  Epoch Osculation  \\\n",
       "0                    0.025282                        4.634         2458000.5   \n",
       "1                    0.186935                        5.457         2458000.5   \n",
       "2                    0.043058                        4.557         2458000.5   \n",
       "3                    0.005512                        5.093         2458000.5   \n",
       "4                    0.034798                        5.154         2458000.5   \n",
       "\n",
       "   Eccentricity  ...  Asc Node Longitude  Orbital Period  Perihelion Distance  \\\n",
       "0      0.425549  ...          314.373913      609.599786             0.808259   \n",
       "1      0.351674  ...          136.717242      425.869294             0.718200   \n",
       "2      0.348248  ...          259.475979      643.580228             0.950791   \n",
       "3      0.216578  ...           57.173266      514.082140             0.983902   \n",
       "4      0.210448  ...           84.629307      495.597821             0.967687   \n",
       "\n",
       "   Perihelion Arg  Aphelion Dist  Perihelion Time  Mean Anomaly  Mean Motion  \\\n",
       "0       57.257470       2.005764     2.458162e+06    264.837533     0.590551   \n",
       "1      313.091975       1.497352     2.457795e+06    173.741112     0.845330   \n",
       "2      248.415038       1.966857     2.458120e+06    292.893654     0.559371   \n",
       "3       18.707701       1.527904     2.457902e+06     68.741007     0.700277   \n",
       "4      158.263596       1.483543     2.457814e+06    135.142133     0.726395   \n",
       "\n",
       "   Equinox  Hazardous  \n",
       "0    J2000          1  \n",
       "1    J2000          0  \n",
       "2    J2000          1  \n",
       "3    J2000          0  \n",
       "4    J2000          1  \n",
       "\n",
       "[5 rows x 22 columns]"
      ]
     },
     "execution_count": 8,
     "metadata": {},
     "output_type": "execute_result"
    }
   ],
   "source": [
    "df.head()"
   ]
  },
  {
   "cell_type": "code",
   "execution_count": 9,
   "metadata": {},
   "outputs": [
    {
     "name": "stdout",
     "output_type": "stream",
     "text": [
      "<class 'pandas.core.frame.DataFrame'>\n",
      "RangeIndex: 4687 entries, 0 to 4686\n",
      "Data columns (total 22 columns):\n",
      " #   Column                       Non-Null Count  Dtype  \n",
      "---  ------                       --------------  -----  \n",
      " 0   Absolute Magnitude           4687 non-null   float64\n",
      " 1   Est Dia in KM(min)           4687 non-null   float64\n",
      " 2   Est Dia in KM(max)           4687 non-null   float64\n",
      " 3   Relative Velocity km per hr  4687 non-null   float64\n",
      " 4   Miss Dist.(kilometers)       4687 non-null   float64\n",
      " 5   Orbit ID                     4687 non-null   int64  \n",
      " 6   Minimum Orbit Intersection   4687 non-null   float64\n",
      " 7   Jupiter Tisserand Invariant  4687 non-null   float64\n",
      " 8   Epoch Osculation             4687 non-null   float64\n",
      " 9   Eccentricity                 4687 non-null   float64\n",
      " 10  Semi Major Axis              4687 non-null   float64\n",
      " 11  Inclination                  4687 non-null   float64\n",
      " 12  Asc Node Longitude           4687 non-null   float64\n",
      " 13  Orbital Period               4687 non-null   float64\n",
      " 14  Perihelion Distance          4687 non-null   float64\n",
      " 15  Perihelion Arg               4687 non-null   float64\n",
      " 16  Aphelion Dist                4687 non-null   float64\n",
      " 17  Perihelion Time              4687 non-null   float64\n",
      " 18  Mean Anomaly                 4687 non-null   float64\n",
      " 19  Mean Motion                  4687 non-null   float64\n",
      " 20  Equinox                      4687 non-null   object \n",
      " 21  Hazardous                    4687 non-null   int32  \n",
      "dtypes: float64(19), int32(1), int64(1), object(1)\n",
      "memory usage: 787.4+ KB\n"
     ]
    }
   ],
   "source": [
    "df.info()"
   ]
  },
  {
   "cell_type": "markdown",
   "metadata": {},
   "source": [
    "### Exploring the important features to work on :"
   ]
  },
  {
   "cell_type": "markdown",
   "metadata": {},
   "source": [
    "##### Exploring the association between the Orbit ID (the orbit taken by the asteroid) and the asteroid's hazardness:"
   ]
  },
  {
   "cell_type": "code",
   "execution_count": 10,
   "metadata": {},
   "outputs": [],
   "source": [
    "orbits_statistics = []\n",
    "orbits_ids = sorted(df[\"Orbit ID\"].unique())"
   ]
  },
  {
   "cell_type": "code",
   "execution_count": 11,
   "metadata": {},
   "outputs": [],
   "source": [
    "for orbit in orbits_ids:\n",
    "    orbit_data = df[df[\"Orbit ID\"] == orbit]\n",
    "    orbits_statistics.append({\"ID\":orbit,\"Occurrence Count\":len(orbit_data),\"Hazardness Count\":orbit_data[\"Hazardous\"].sum(),\n",
    "    \"Hazardness Probability\":orbit_data[\"Hazardous\"].sum()/len(orbit_data)})"
   ]
  },
  {
   "cell_type": "code",
   "execution_count": 12,
   "metadata": {},
   "outputs": [
    {
     "data": {
      "text/html": [
       "<div>\n",
       "<style scoped>\n",
       "    .dataframe tbody tr th:only-of-type {\n",
       "        vertical-align: middle;\n",
       "    }\n",
       "\n",
       "    .dataframe tbody tr th {\n",
       "        vertical-align: top;\n",
       "    }\n",
       "\n",
       "    .dataframe thead th {\n",
       "        text-align: right;\n",
       "    }\n",
       "</style>\n",
       "<table border=\"1\" class=\"dataframe\">\n",
       "  <thead>\n",
       "    <tr style=\"text-align: right;\">\n",
       "      <th></th>\n",
       "      <th>ID</th>\n",
       "      <th>Occurrence Count</th>\n",
       "      <th>Hazardness Count</th>\n",
       "      <th>Hazardness Probability</th>\n",
       "    </tr>\n",
       "  </thead>\n",
       "  <tbody>\n",
       "    <tr>\n",
       "      <th>0</th>\n",
       "      <td>1</td>\n",
       "      <td>11</td>\n",
       "      <td>0</td>\n",
       "      <td>0.000000</td>\n",
       "    </tr>\n",
       "    <tr>\n",
       "      <th>1</th>\n",
       "      <td>2</td>\n",
       "      <td>27</td>\n",
       "      <td>1</td>\n",
       "      <td>0.037037</td>\n",
       "    </tr>\n",
       "    <tr>\n",
       "      <th>2</th>\n",
       "      <td>3</td>\n",
       "      <td>82</td>\n",
       "      <td>0</td>\n",
       "      <td>0.000000</td>\n",
       "    </tr>\n",
       "    <tr>\n",
       "      <th>3</th>\n",
       "      <td>4</td>\n",
       "      <td>125</td>\n",
       "      <td>0</td>\n",
       "      <td>0.000000</td>\n",
       "    </tr>\n",
       "    <tr>\n",
       "      <th>4</th>\n",
       "      <td>5</td>\n",
       "      <td>139</td>\n",
       "      <td>3</td>\n",
       "      <td>0.021583</td>\n",
       "    </tr>\n",
       "    <tr>\n",
       "      <th>...</th>\n",
       "      <td>...</td>\n",
       "      <td>...</td>\n",
       "      <td>...</td>\n",
       "      <td>...</td>\n",
       "    </tr>\n",
       "    <tr>\n",
       "      <th>183</th>\n",
       "      <td>386</td>\n",
       "      <td>2</td>\n",
       "      <td>0</td>\n",
       "      <td>0.000000</td>\n",
       "    </tr>\n",
       "    <tr>\n",
       "      <th>184</th>\n",
       "      <td>412</td>\n",
       "      <td>1</td>\n",
       "      <td>0</td>\n",
       "      <td>0.000000</td>\n",
       "    </tr>\n",
       "    <tr>\n",
       "      <th>185</th>\n",
       "      <td>422</td>\n",
       "      <td>1</td>\n",
       "      <td>0</td>\n",
       "      <td>0.000000</td>\n",
       "    </tr>\n",
       "    <tr>\n",
       "      <th>186</th>\n",
       "      <td>453</td>\n",
       "      <td>1</td>\n",
       "      <td>0</td>\n",
       "      <td>0.000000</td>\n",
       "    </tr>\n",
       "    <tr>\n",
       "      <th>187</th>\n",
       "      <td>611</td>\n",
       "      <td>1</td>\n",
       "      <td>0</td>\n",
       "      <td>0.000000</td>\n",
       "    </tr>\n",
       "  </tbody>\n",
       "</table>\n",
       "<p>188 rows × 4 columns</p>\n",
       "</div>"
      ],
      "text/plain": [
       "      ID  Occurrence Count  Hazardness Count  Hazardness Probability\n",
       "0      1                11                 0                0.000000\n",
       "1      2                27                 1                0.037037\n",
       "2      3                82                 0                0.000000\n",
       "3      4               125                 0                0.000000\n",
       "4      5               139                 3                0.021583\n",
       "..   ...               ...               ...                     ...\n",
       "183  386                 2                 0                0.000000\n",
       "184  412                 1                 0                0.000000\n",
       "185  422                 1                 0                0.000000\n",
       "186  453                 1                 0                0.000000\n",
       "187  611                 1                 0                0.000000\n",
       "\n",
       "[188 rows x 4 columns]"
      ]
     },
     "execution_count": 12,
     "metadata": {},
     "output_type": "execute_result"
    }
   ],
   "source": [
    "orbits_statistics_df = pd.DataFrame(orbits_statistics)\n",
    "orbits_statistics_df"
   ]
  },
  {
   "cell_type": "code",
   "execution_count": 13,
   "metadata": {},
   "outputs": [
    {
     "data": {
      "image/png": "[encoded data removed]",
      "text/plain": [
       "<Figure size 432x288 with 1 Axes>"
      ]
     },
     "metadata": {
      "needs_background": "light"
     },
     "output_type": "display_data"
    }
   ],
   "source": [
    "plt.bar(orbits_statistics_df[\"ID\"],orbits_statistics_df[\"Hazardness Probability\"],color=\"maroon\",width=1)\n",
    "plt.xlabel(\"Orbit ID\")\n",
    "plt.ylabel(\"Hazardness Probability\")\n",
    "plt.show()"
   ]
  },
  {
   "cell_type": "code",
   "execution_count": 14,
   "metadata": {},
   "outputs": [
    {
     "data": {
      "image/png": "[encoded data removed]",
      "text/plain": [
       "<Figure size 432x288 with 1 Axes>"
      ]
     },
     "metadata": {
      "needs_background": "light"
     },
     "output_type": "display_data"
    }
   ],
   "source": [
    "plt.bar(orbits_statistics_df[\"ID\"],orbits_statistics_df[\"Occurrence Count\"],color=\"maroon\",width=1)\n",
    "plt.bar(orbits_statistics_df[\"ID\"],orbits_statistics_df[\"Hazardness Count\"],width=1)\n",
    "plt.xlabel(\"Orbit ID\")\n",
    "plt.ylabel(\"Occurrence Count\")\n",
    "plt.show()"
   ]
  },
  {
   "cell_type": "markdown",
   "metadata": {},
   "source": [
    "##### Based on the results:\n",
    "    We can see that orbits with small id value had occurred the most in our dataset, however it had low probability that the asteroid taking that oribit is actually hazardous, on the otherhand the orbits the occurred fewer times in our dataset appear to be more linked with the hazardness of the asteroids taking that path.\n",
    "##### We MUST note that:\n",
    "    There is a limitation in our dataset on the recorded occurrences for each orbit which makes the probabilities of hazardness for each orbit less representative. "
   ]
  },
  {
   "cell_type": "markdown",
   "metadata": {},
   "source": [
    "#### Exploring relationship between asteroid hazardness and its Mean Motion, Mean Anomaly, Velocity and Absolute Magnitude :"
   ]
  },
  {
   "cell_type": "code",
   "execution_count": 15,
   "metadata": {},
   "outputs": [
    {
     "data": {
      "text/plain": [
       "<AxesSubplot:xlabel='Hazardous', ylabel='Mean Motion'>"
      ]
     },
     "execution_count": 15,
     "metadata": {},
     "output_type": "execute_result"
    },
    {
     "data": {
      "image/png": "[encoded data removed]",
      "text/plain": [
       "<Figure size 432x288 with 1 Axes>"
      ]
     },
     "metadata": {
      "needs_background": "light"
     },
     "output_type": "display_data"
    }
   ],
   "source": [
    "sns.boxplot(x=\"Hazardous\",y=\"Mean Motion\",data=df)"
   ]
  },
  {
   "cell_type": "code",
   "execution_count": 16,
   "metadata": {},
   "outputs": [
    {
     "data": {
      "text/plain": [
       "<AxesSubplot:xlabel='Hazardous', ylabel='Mean Anomaly'>"
      ]
     },
     "execution_count": 16,
     "metadata": {},
     "output_type": "execute_result"
    },
    {
     "data": {
      "image/png": "[encoded data removed]",
      "text/plain": [
       "<Figure size 432x288 with 1 Axes>"
      ]
     },
     "metadata": {
      "needs_background": "light"
     },
     "output_type": "display_data"
    }
   ],
   "source": [
    "sns.boxplot(x=\"Hazardous\",y=\"Mean Anomaly\",data=df)"
   ]
  },
  {
   "cell_type": "code",
   "execution_count": 17,
   "metadata": {},
   "outputs": [
    {
     "data": {
      "image/png": "[encoded data removed]",
      "text/plain": [
       "<Figure size 432x288 with 1 Axes>"
      ]
     },
     "metadata": {
      "needs_background": "light"
     },
     "output_type": "display_data"
    }
   ],
   "source": [
    "sns.boxplot(x=\"Hazardous\",y=\"Relative Velocity km per hr\",data=df);"
   ]
  },
  {
   "cell_type": "code",
   "execution_count": 18,
   "metadata": {},
   "outputs": [
    {
     "data": {
      "image/png": "[encoded data removed]",
      "text/plain": [
       "<Figure size 432x288 with 1 Axes>"
      ]
     },
     "metadata": {
      "needs_background": "light"
     },
     "output_type": "display_data"
    }
   ],
   "source": [
    "sns.boxplot(x=\"Hazardous\",y=\"Absolute Magnitude\",data=df);"
   ]
  },
  {
   "cell_type": "code",
   "execution_count": 19,
   "metadata": {},
   "outputs": [
    {
     "data": {
      "image/png": "[encoded data removed]",
      "text/plain": [
       "<Figure size 432x288 with 1 Axes>"
      ]
     },
     "metadata": {
      "needs_background": "light"
     },
     "output_type": "display_data"
    }
   ],
   "source": [
    "sns.boxplot(x=\"Hazardous\",y=\"Perihelion Time\",data=df);"
   ]
  },
  {
   "cell_type": "markdown",
   "metadata": {},
   "source": [
    "#### Based on the previous graphs :"
   ]
  },
  {
   "cell_type": "markdown",
   "metadata": {},
   "source": [
    "- __Mean Motion__ : There is no significant difference between hazardous and non-hazardous asteroids within this feature.\n",
    "- __Mean Anomaly__ : For hazrdous asteroid the mean value of the mean anomaly is slightlty higher other than that there is no other significant difference within that feature\n",
    "- __Relative Velocity__ : Hazardous asteroids are more associated with having higher velocities and the mean relative velocity of hazardous asteroids is significantly higher than that of non-hazardous asteroids.\n",
    "- __Absolute Magnitude__ : The higher the absolute magnitude of the asteroid the less probable that it turns out to be hazardous and this is clear for that the mean absolute magnitude for non-hazardous asteroids is significantly higher than that of hazardous asteroids.\n",
    "- __Perihelion Time__: It can be noted that the mean perihelion time for hazrdous asteroids is higher than that of non-hazardous ones.\n",
    "\n",
    "__Based on all of this, the relation between the last four variable listed above and the hazardness of the asteroids can be taken into consideration when determining whether a new viewed asteroid is hazardous or non-hazardous.__"
   ]
  },
  {
   "cell_type": "markdown",
   "metadata": {},
   "source": []
  }
 ],
 "metadata": {
  "interpreter": {
   "hash": "a9ca58c17c16ffb78afa33239fd707dc40c69496d3e07fb8cd4be0b682604448"
  },
  "kernelspec": {
   "display_name": "Python 3.10.2 64-bit",
   "language": "python",
   "name": "python3"
  },
  "language_info": {
   "codemirror_mode": {
    "name": "ipython",
    "version": 3
   },
   "file_extension": ".py",
   "mimetype": "text/x-python",
   "name": "python",
   "nbconvert_exporter": "python",
   "pygments_lexer": "ipython3",
   "version": "3.10.2"
  },
  "orig_nbformat": 4
 },
 "nbformat": 4,
 "nbformat_minor": 2
}
